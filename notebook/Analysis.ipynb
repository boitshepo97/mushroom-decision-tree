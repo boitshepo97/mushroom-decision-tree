{
 "cells": [
  {
   "cell_type": "markdown",
   "metadata": {},
   "source": [
    "# Analysis without Model"
   ]
  },
  {
   "cell_type": "markdown",
   "metadata": {},
   "source": [
    "In this notebook I will analyse the data of the musgrooms without using anytime of model, this will also help me to understand the dat I am working on. I will be expecting to be able to determine if the mushrooms are Edible or Poisonous only using the characteristics that are given to us."
   ]
  },
  {
   "cell_type": "code",
   "execution_count": 24,
   "metadata": {},
   "outputs": [],
   "source": [
    "import pandas as pd\n",
    "import pandas as pd\n",
    "import matplotlib as plt\n",
    "import numpy as np"
   ]
  },
  {
   "cell_type": "code",
   "execution_count": 25,
   "metadata": {},
   "outputs": [],
   "source": [
    "mushroom = pd.read_csv('../data/agaricus-lepiota.data')"
   ]
  },
  {
   "cell_type": "code",
   "execution_count": 26,
   "metadata": {},
   "outputs": [
    {
     "data": {
      "text/plain": [
       "Index(['p', 'x', 's', 'n', 't', 'p.1', 'f', 'c', 'n.1', 'k', 'e', 'e.1', 's.1',\n",
       "       's.2', 'w', 'w.1', 'p.2', 'w.2', 'o', 'p.3', 'k.1', 's.3', 'u'],\n",
       "      dtype='object')"
      ]
     },
     "execution_count": 26,
     "metadata": {},
     "output_type": "execute_result"
    }
   ],
   "source": [
    "mushroom.columns"
   ]
  },
  {
   "cell_type": "code",
   "execution_count": 27,
   "metadata": {},
   "outputs": [],
   "source": [
    "mushroom.rename(columns = {'p':'classes','x':'cap-shape','s':'cap-surface','n':'cap-color',\n",
    "                           't':'bruises','p.1':'odor','f':'gill-attachment','c':'gill-spacing',\n",
    "                           'n.1':'gill-size','k':'gill-color','e':'stalk-shape','e.1':'stalk-root',\n",
    "                           's.1':'stalk-surface-above-ring','s.2':'stalk-surface-below-ring',\n",
    "                           'w':'stalk-color-above-ring','w.1':'stalk-color-below-ring',\n",
    "                           'p.2':'veil-type','w.2':'veil-color','o':'ring-number','p.3':'ring-type',\n",
    "                           'k.1':'spore-print-color','s.3':'population','u':'habitat'},inplace = True)"
   ]
  },
  {
   "cell_type": "code",
   "execution_count": 28,
   "metadata": {},
   "outputs": [
    {
     "name": "stdout",
     "output_type": "stream",
     "text": [
      "<class 'pandas.core.frame.DataFrame'>\n",
      "RangeIndex: 8123 entries, 0 to 8122\n",
      "Data columns (total 23 columns):\n",
      " #   Column                    Non-Null Count  Dtype \n",
      "---  ------                    --------------  ----- \n",
      " 0   classes                   8123 non-null   object\n",
      " 1   cap-shape                 8123 non-null   object\n",
      " 2   cap-surface               8123 non-null   object\n",
      " 3   cap-color                 8123 non-null   object\n",
      " 4   bruises                   8123 non-null   object\n",
      " 5   odor                      8123 non-null   object\n",
      " 6   gill-attachment           8123 non-null   object\n",
      " 7   gill-spacing              8123 non-null   object\n",
      " 8   gill-size                 8123 non-null   object\n",
      " 9   gill-color                8123 non-null   object\n",
      " 10  stalk-shape               8123 non-null   object\n",
      " 11  stalk-root                8123 non-null   object\n",
      " 12  stalk-surface-above-ring  8123 non-null   object\n",
      " 13  stalk-surface-below-ring  8123 non-null   object\n",
      " 14  stalk-color-above-ring    8123 non-null   object\n",
      " 15  stalk-color-below-ring    8123 non-null   object\n",
      " 16  veil-type                 8123 non-null   object\n",
      " 17  veil-color                8123 non-null   object\n",
      " 18  ring-number               8123 non-null   object\n",
      " 19  ring-type                 8123 non-null   object\n",
      " 20  spore-print-color         8123 non-null   object\n",
      " 21  population                8123 non-null   object\n",
      " 22  habitat                   8123 non-null   object\n",
      "dtypes: object(23)\n",
      "memory usage: 1.4+ MB\n"
     ]
    }
   ],
   "source": [
    "mushroom.info()"
   ]
  },
  {
   "cell_type": "markdown",
   "metadata": {},
   "source": [
    "From what I read on Mushrooms the characteristics that determine if a mushroom is edible or not are:\n",
    "\n",
    "1. Cap color\n",
    "2. Bruises\n",
    "3. Odor\n",
    "4. Gill color\n",
    "5. Stalk surface Below ring\n",
    "6. Spore print color\n",
    "7. Ring number\n",
    "8. Population\n",
    "9. Habitat\n",
    "\n",
    "I am going to use this to create a subset dataframe in which I will look at how this corresponds to the Mushroon being either Edible or Poisonous."
   ]
  },
  {
   "cell_type": "code",
   "execution_count": 29,
   "metadata": {},
   "outputs": [],
   "source": [
    "determiners = mushroom[['classes','cap-color','bruises','odor','gill-color',\n",
    "                        'stalk-surface-below-ring','ring-number','spore-print-color',\n",
    "                        'population','habitat']]"
   ]
  },
  {
   "cell_type": "code",
   "execution_count": 30,
   "metadata": {},
   "outputs": [],
   "source": [
    "edible_mushroom = determiners[determiners.classes == \"e\"]"
   ]
  },
  {
   "cell_type": "code",
   "execution_count": 31,
   "metadata": {},
   "outputs": [],
   "source": [
    "poisonous_mushroom = determiners[determiners.classes == \"p\"]"
   ]
  },
  {
   "cell_type": "code",
   "execution_count": 32,
   "metadata": {},
   "outputs": [
    {
     "data": {
      "text/html": [
       "<div>\n",
       "<style scoped>\n",
       "    .dataframe tbody tr th:only-of-type {\n",
       "        vertical-align: middle;\n",
       "    }\n",
       "\n",
       "    .dataframe tbody tr th {\n",
       "        vertical-align: top;\n",
       "    }\n",
       "\n",
       "    .dataframe thead th {\n",
       "        text-align: right;\n",
       "    }\n",
       "</style>\n",
       "<table border=\"1\" class=\"dataframe\">\n",
       "  <thead>\n",
       "    <tr style=\"text-align: right;\">\n",
       "      <th></th>\n",
       "      <th>cap-color</th>\n",
       "      <th>bruises</th>\n",
       "      <th>odor</th>\n",
       "      <th>gill-color</th>\n",
       "      <th>stalk-surface-below-ring</th>\n",
       "      <th>ring-number</th>\n",
       "      <th>spore-print-color</th>\n",
       "      <th>population</th>\n",
       "      <th>habitat</th>\n",
       "    </tr>\n",
       "    <tr>\n",
       "      <th>classes</th>\n",
       "      <th></th>\n",
       "      <th></th>\n",
       "      <th></th>\n",
       "      <th></th>\n",
       "      <th></th>\n",
       "      <th></th>\n",
       "      <th></th>\n",
       "      <th></th>\n",
       "      <th></th>\n",
       "    </tr>\n",
       "  </thead>\n",
       "  <tbody>\n",
       "    <tr>\n",
       "      <th>e</th>\n",
       "      <td>4208</td>\n",
       "      <td>4208</td>\n",
       "      <td>4208</td>\n",
       "      <td>4208</td>\n",
       "      <td>4208</td>\n",
       "      <td>4208</td>\n",
       "      <td>4208</td>\n",
       "      <td>4208</td>\n",
       "      <td>4208</td>\n",
       "    </tr>\n",
       "    <tr>\n",
       "      <th>p</th>\n",
       "      <td>3915</td>\n",
       "      <td>3915</td>\n",
       "      <td>3915</td>\n",
       "      <td>3915</td>\n",
       "      <td>3915</td>\n",
       "      <td>3915</td>\n",
       "      <td>3915</td>\n",
       "      <td>3915</td>\n",
       "      <td>3915</td>\n",
       "    </tr>\n",
       "  </tbody>\n",
       "</table>\n",
       "</div>"
      ],
      "text/plain": [
       "         cap-color  bruises  odor  gill-color  stalk-surface-below-ring  \\\n",
       "classes                                                                   \n",
       "e             4208     4208  4208        4208                      4208   \n",
       "p             3915     3915  3915        3915                      3915   \n",
       "\n",
       "         ring-number  spore-print-color  population  habitat  \n",
       "classes                                                       \n",
       "e               4208               4208        4208     4208  \n",
       "p               3915               3915        3915     3915  "
      ]
     },
     "execution_count": 32,
     "metadata": {},
     "output_type": "execute_result"
    }
   ],
   "source": [
    "determiners.groupby('classes').count()"
   ]
  },
  {
   "cell_type": "markdown",
   "metadata": {},
   "source": [
    "From the count, we are able to see that in our data we have 4208 Mushrooms that are edible and 3915 which are Poisonous."
   ]
  },
  {
   "cell_type": "code",
   "execution_count": 33,
   "metadata": {},
   "outputs": [
    {
     "data": {
      "text/plain": [
       "classes  cap-color\n",
       "e        n            1264\n",
       "         g            1032\n",
       "         w             720\n",
       "         e             624\n",
       "         y             400\n",
       "         p              56\n",
       "         b              48\n",
       "         c              32\n",
       "         r              16\n",
       "         u              16\n",
       "p        n            1019\n",
       "         e             876\n",
       "         g             808\n",
       "         y             672\n",
       "         w             320\n",
       "         b             120\n",
       "         p              88\n",
       "         c              12\n",
       "Name: cap-color, dtype: int64"
      ]
     },
     "execution_count": 33,
     "metadata": {},
     "output_type": "execute_result"
    }
   ],
   "source": [
    "determiners.groupby('classes')['cap-color'].value_counts()"
   ]
  },
  {
   "cell_type": "markdown",
   "metadata": {},
   "source": [
    "### Cap color\n",
    "\n",
    "keys: [ brown=n, buff=b, cinnamon=c, gray=g, green=r, pink=p, purple=u, red=e, white=w, yellow=y ]\n",
    "\n",
    "For Edible Mushrooms we have about 1264 mushrooms with a brown cap, 1032 with a grey cap, 720 with a white cap, 624 with a red cap, 400 with a yellow cap, 56 with a pink cap, 48 with a buff cap, 32 with a cinnamon cap, 16 with a green cap and 16 with a purple cap\n",
    "\n",
    "For Poisonous Mushroom we have about 1019 with a brown cap, 876 with a red cap, 808 with a grey cap, 672 with a yellow cap, 320 with a white cap, 120 with a buff cap, 88 with a pink cap and 12 with a cinnamon cap."
   ]
  },
  {
   "cell_type": "code",
   "execution_count": 34,
   "metadata": {},
   "outputs": [
    {
     "data": {
      "text/plain": [
       "classes  bruises\n",
       "e        t          2752\n",
       "         f          1456\n",
       "p        f          3292\n",
       "         t           623\n",
       "Name: bruises, dtype: int64"
      ]
     },
     "execution_count": 34,
     "metadata": {},
     "output_type": "execute_result"
    }
   ],
   "source": [
    " determiners.groupby('classes')['bruises'].value_counts()"
   ]
  },
  {
   "cell_type": "markdown",
   "metadata": {},
   "source": [
    "### Bruises\n",
    "\n",
    "keys: [bruises=t, no=f ]\n",
    "\n",
    "For Edible Mushrooms we have about 2752 that have bruises and 1456 that do not have bruises.\n",
    "\n",
    "For Poisonous Mushroom we have about 3292 that have no bruises and 623 with bruises."
   ]
  },
  {
   "cell_type": "code",
   "execution_count": 35,
   "metadata": {},
   "outputs": [
    {
     "data": {
      "text/plain": [
       "classes  odor\n",
       "e        n       3408\n",
       "         a        400\n",
       "         l        400\n",
       "p        f       2160\n",
       "         s        576\n",
       "         y        576\n",
       "         p        255\n",
       "         c        192\n",
       "         n        120\n",
       "         m         36\n",
       "Name: odor, dtype: int64"
      ]
     },
     "execution_count": 35,
     "metadata": {},
     "output_type": "execute_result"
    }
   ],
   "source": [
    "determiners.groupby('classes')['odor'].value_counts()"
   ]
  },
  {
   "cell_type": "markdown",
   "metadata": {},
   "source": [
    "### Odor\n",
    "\n",
    "keys: [ almond=a, anise=l, creosote=c, fishy=y, foul=f, musty=m, none=n, pungent=p, spicy=s ]\n",
    "\n",
    "For Edible Mushroom we have about 3400 mushrooms with no odor, 400 with an almond odor and 400 with an anise odor.\n",
    "\n",
    "For poisonous we have about 2160 mushrooms with a foul odor, 576 with a spicy odor, 576 with a fishy odor, 255 with a pungent odor, 192 with a creosote, 120 with no odor and  36 with a musty odor.\n",
    "\n"
   ]
  },
  {
   "cell_type": "code",
   "execution_count": 36,
   "metadata": {},
   "outputs": [
    {
     "data": {
      "text/plain": [
       "classes  gill-color\n",
       "e        w              956\n",
       "         n              936\n",
       "         p              852\n",
       "         u              444\n",
       "         k              344\n",
       "         g              248\n",
       "         h              204\n",
       "         e               96\n",
       "         o               64\n",
       "         y               64\n",
       "p        b             1728\n",
       "         p              640\n",
       "         h              528\n",
       "         g              504\n",
       "         w              246\n",
       "         n              112\n",
       "         k               63\n",
       "         u               48\n",
       "         r               24\n",
       "         y               22\n",
       "Name: gill-color, dtype: int64"
      ]
     },
     "execution_count": 36,
     "metadata": {},
     "output_type": "execute_result"
    }
   ],
   "source": [
    "determiners.groupby('classes')['gill-color'].value_counts()"
   ]
  },
  {
   "cell_type": "markdown",
   "metadata": {},
   "source": [
    "### Gill Color\n",
    "\n",
    "Keys: [ black=k, brown=n, buff=b, chocolate=h, gray=g, green=r, orange=o, pink=p, purple=u, red=e, white=w, yellow=y ]\n",
    "\n",
    "For Edible Mushroom, we have about  956 mushrooms with a white gill color, 936 with a brown gill color, 852 with a pink gill color,  444 with a purple gill color,  344 with a black gill color,  248 a grey gill color, 204 with a chocolate gill color,  96 with a red gill color,  64 with an orange gill color and 64 a yellow gill color.\n",
    "\n",
    "For Poisonous Mushroom, we have about 1728 mushrooms with a buff gill color, 640 with a pink gill color, 528 with a chocolate gill color, 504 with a grey gill color, 246 with a white gill color, 112 with a brown gill color, 63 with a black gill color, 48 with a purple gill color, 24 with a green gill color and 22 with a yellow gill color."
   ]
  },
  {
   "cell_type": "code",
   "execution_count": 37,
   "metadata": {},
   "outputs": [
    {
     "data": {
      "text/plain": [
       "classes  stalk-surface-below-ring\n",
       "e        s                           3400\n",
       "         f                            456\n",
       "         y                            208\n",
       "         k                            144\n",
       "p        k                           2160\n",
       "         s                           1535\n",
       "         f                            144\n",
       "         y                             76\n",
       "Name: stalk-surface-below-ring, dtype: int64"
      ]
     },
     "execution_count": 37,
     "metadata": {},
     "output_type": "execute_result"
    }
   ],
   "source": [
    "determiners.groupby('classes')['stalk-surface-below-ring'].value_counts()"
   ]
  },
  {
   "cell_type": "markdown",
   "metadata": {},
   "source": [
    "### Stalk surface Below ring\n",
    "\n",
    "keys: [ fibrous=f, scaly=y, silky=k, smooth=s ]\n",
    "\n",
    "With Edible Mushroom we have about 3400 mushrooms which have a smooth Surface, 456 with a fibrous surface, 208 with a scaly surfaceand 144 with a silky surface.\n",
    "\n",
    "For Poisonous Mushroom we have about 2160 mushrooms that have a silky surface, 1535 with a smooth surface, 144 with a fibrous surface,\n"
   ]
  },
  {
   "cell_type": "code",
   "execution_count": 38,
   "metadata": {},
   "outputs": [
    {
     "data": {
      "text/plain": [
       "classes  ring-number\n",
       "e        o              3680\n",
       "         t               528\n",
       "p        o              3807\n",
       "         t                72\n",
       "         n                36\n",
       "Name: ring-number, dtype: int64"
      ]
     },
     "execution_count": 38,
     "metadata": {},
     "output_type": "execute_result"
    }
   ],
   "source": [
    "determiners.groupby('classes')['ring-number'].value_counts()"
   ]
  },
  {
   "cell_type": "markdown",
   "metadata": {},
   "source": [
    "### Number of rings.\n",
    "\n",
    "Keys: [ \tnone=n, one=o, two=t ]\n",
    "\n",
    "For Edible Mushroom, we have about 3680 with one  ring, 528 with two rings.\n",
    "\n",
    "For Poisonous Mushroom, we have about 3807 with one ring, 72 with two rings and 36 with no rings at all."
   ]
  },
  {
   "cell_type": "code",
   "execution_count": 39,
   "metadata": {},
   "outputs": [
    {
     "data": {
      "text/plain": [
       "classes  spore-print-color\n",
       "e        n                    1744\n",
       "         k                    1648\n",
       "         w                     576\n",
       "         b                      48\n",
       "         h                      48\n",
       "         o                      48\n",
       "         u                      48\n",
       "         y                      48\n",
       "p        w                    1812\n",
       "         h                    1584\n",
       "         n                     224\n",
       "         k                     223\n",
       "         r                      72\n",
       "Name: spore-print-color, dtype: int64"
      ]
     },
     "execution_count": 39,
     "metadata": {},
     "output_type": "execute_result"
    }
   ],
   "source": [
    "determiners.groupby('classes')['spore-print-color'].value_counts()"
   ]
  },
  {
   "cell_type": "markdown",
   "metadata": {},
   "source": [
    "### Spore print color.\n",
    "\n",
    "Keys: [ black=k, brown=n, buff=b, chocolate=h, green=r, orange=o, purple=u, white=w, yellow=y ]\n",
    "\n",
    "For Edible Mushroom, we have about 1744 mushrooms with a brown spore print color, 1648 with a black spore print color, 576 with a white spore print color, 48 with a buff spore print color, 48 with a chocolate spore print color, 48 with an orange spore print color and 48 with a yellow spore print color.\n",
    "\n",
    "For Poisonous Mushroom, we have about 1812 with a white spore print color, 1584 with a chocolate spore print color, 224 with a brown spore print color, 223 with a black spore print color and 72 with a green spore print color,"
   ]
  },
  {
   "cell_type": "code",
   "execution_count": 40,
   "metadata": {},
   "outputs": [
    {
     "data": {
      "text/plain": [
       "classes  population\n",
       "e        v             1192\n",
       "         y             1064\n",
       "         s              880\n",
       "         n              400\n",
       "         a              384\n",
       "         c              288\n",
       "p        v             2848\n",
       "         y              648\n",
       "         s              367\n",
       "         c               52\n",
       "Name: population, dtype: int64"
      ]
     },
     "execution_count": 40,
     "metadata": {},
     "output_type": "execute_result"
    }
   ],
   "source": [
    "determiners.groupby('classes')['population'].value_counts()"
   ]
  },
  {
   "cell_type": "markdown",
   "metadata": {},
   "source": [
    "### Population\n",
    "\n",
    "Keys: [ abundant=a, clustered=c, numerous=n, scattered=s, several=v, solitary=y ]\n",
    "\n",
    "For Edible Mushroom, we have about 1192 mushrooms that are several in population, 1094 which are in solidarity, 880 which are scattered,400 which are numerous,384 that are abundant and 288 that are clustered.\n",
    "\n",
    "For Poisonous Mushroom, We have about 2848 mushrooms that are several in a population, 648 which are in solidarity, 367 that are scattered and 52 that are scattered."
   ]
  },
  {
   "cell_type": "code",
   "execution_count": 41,
   "metadata": {},
   "outputs": [
    {
     "data": {
      "text/plain": [
       "classes  habitat\n",
       "e        d          1880\n",
       "         g          1408\n",
       "         m           256\n",
       "         l           240\n",
       "         w           192\n",
       "         p           136\n",
       "         u            96\n",
       "p        d          1268\n",
       "         p          1008\n",
       "         g           740\n",
       "         l           592\n",
       "         u           271\n",
       "         m            36\n",
       "Name: habitat, dtype: int64"
      ]
     },
     "execution_count": 41,
     "metadata": {},
     "output_type": "execute_result"
    }
   ],
   "source": [
    "determiners.groupby('classes')['habitat'].value_counts()"
   ]
  },
  {
   "cell_type": "markdown",
   "metadata": {},
   "source": [
    "### Habitat \n",
    "\n",
    "Keys: [ grasses=g, leaves=l, meadows=m, paths=p, urban=u, waste=w, woods=d ]\n",
    "\n",
    "For Edible Mushrooms, we have about 1880 which can be found in woods, 1408 on grasses, 256 in meadows, 240 on leaves, 192 in waste and 92 in urban areas.\n",
    "\n",
    "For Poisonous Mushroom, we have about 1268 mushrooms that can be found in woods, 1008 on paths, 740 on grasses, 592 on leaves, 271 in urban areas and 36 in meadows."
   ]
  },
  {
   "cell_type": "markdown",
   "metadata": {},
   "source": [
    "# Analysis using a Model"
   ]
  },
  {
   "cell_type": "code",
   "execution_count": 42,
   "metadata": {},
   "outputs": [],
   "source": [
    "from sklearn.manifold import TSNE\n",
    "from sklearn.neighbors import KNeighborsClassifier\n",
    "from sklearn.model_selection import train_test_split, GridSearchCV\n",
    "from sklearn.pipeline import Pipeline\n",
    "from sklearn.metrics import confusion_matrix, classification_report"
   ]
  },
  {
   "cell_type": "code",
   "execution_count": 43,
   "metadata": {},
   "outputs": [
    {
     "data": {
      "text/html": [
       "<div>\n",
       "<style scoped>\n",
       "    .dataframe tbody tr th:only-of-type {\n",
       "        vertical-align: middle;\n",
       "    }\n",
       "\n",
       "    .dataframe tbody tr th {\n",
       "        vertical-align: top;\n",
       "    }\n",
       "\n",
       "    .dataframe thead th {\n",
       "        text-align: right;\n",
       "    }\n",
       "</style>\n",
       "<table border=\"1\" class=\"dataframe\">\n",
       "  <thead>\n",
       "    <tr style=\"text-align: right;\">\n",
       "      <th></th>\n",
       "      <th>classes_e</th>\n",
       "      <th>classes_p</th>\n",
       "      <th>cap-shape_b</th>\n",
       "      <th>cap-shape_c</th>\n",
       "      <th>cap-shape_f</th>\n",
       "      <th>cap-shape_k</th>\n",
       "      <th>cap-shape_s</th>\n",
       "      <th>cap-shape_x</th>\n",
       "      <th>cap-surface_f</th>\n",
       "      <th>cap-surface_g</th>\n",
       "      <th>...</th>\n",
       "      <th>population_s</th>\n",
       "      <th>population_v</th>\n",
       "      <th>population_y</th>\n",
       "      <th>habitat_d</th>\n",
       "      <th>habitat_g</th>\n",
       "      <th>habitat_l</th>\n",
       "      <th>habitat_m</th>\n",
       "      <th>habitat_p</th>\n",
       "      <th>habitat_u</th>\n",
       "      <th>habitat_w</th>\n",
       "    </tr>\n",
       "  </thead>\n",
       "  <tbody>\n",
       "  </tbody>\n",
       "</table>\n",
       "<p>0 rows × 119 columns</p>\n",
       "</div>"
      ],
      "text/plain": [
       "Empty DataFrame\n",
       "Columns: [classes_e, classes_p, cap-shape_b, cap-shape_c, cap-shape_f, cap-shape_k, cap-shape_s, cap-shape_x, cap-surface_f, cap-surface_g, cap-surface_s, cap-surface_y, cap-color_b, cap-color_c, cap-color_e, cap-color_g, cap-color_n, cap-color_p, cap-color_r, cap-color_u, cap-color_w, cap-color_y, bruises_f, bruises_t, odor_a, odor_c, odor_f, odor_l, odor_m, odor_n, odor_p, odor_s, odor_y, gill-attachment_a, gill-attachment_f, gill-spacing_c, gill-spacing_w, gill-size_b, gill-size_n, gill-color_b, gill-color_e, gill-color_g, gill-color_h, gill-color_k, gill-color_n, gill-color_o, gill-color_p, gill-color_r, gill-color_u, gill-color_w, gill-color_y, stalk-shape_e, stalk-shape_t, stalk-root_?, stalk-root_b, stalk-root_c, stalk-root_e, stalk-root_r, stalk-surface-above-ring_f, stalk-surface-above-ring_k, stalk-surface-above-ring_s, stalk-surface-above-ring_y, stalk-surface-below-ring_f, stalk-surface-below-ring_k, stalk-surface-below-ring_s, stalk-surface-below-ring_y, stalk-color-above-ring_b, stalk-color-above-ring_c, stalk-color-above-ring_e, stalk-color-above-ring_g, stalk-color-above-ring_n, stalk-color-above-ring_o, stalk-color-above-ring_p, stalk-color-above-ring_w, stalk-color-above-ring_y, stalk-color-below-ring_b, stalk-color-below-ring_c, stalk-color-below-ring_e, stalk-color-below-ring_g, stalk-color-below-ring_n, stalk-color-below-ring_o, stalk-color-below-ring_p, stalk-color-below-ring_w, stalk-color-below-ring_y, veil-type_p, veil-color_n, veil-color_o, veil-color_w, veil-color_y, ring-number_n, ring-number_o, ring-number_t, ring-type_e, ring-type_f, ring-type_l, ring-type_n, ring-type_p, spore-print-color_b, spore-print-color_h, spore-print-color_k, ...]\n",
       "Index: []\n",
       "\n",
       "[0 rows x 119 columns]"
      ]
     },
     "execution_count": 43,
     "metadata": {},
     "output_type": "execute_result"
    }
   ],
   "source": [
    "mushroom = pd.get_dummies(mushroom)\n",
    "mushroom.head(0)"
   ]
  },
  {
   "cell_type": "code",
   "execution_count": 44,
   "metadata": {},
   "outputs": [],
   "source": [
    "LABELS = ['classes_e', 'classes_p']\n",
    "FEATURES = [a  for a in mushroom.columns if a not in LABELS ]\n",
    "y = mushroom[LABELS[0]]\n",
    "x= mushroom[FEATURES]"
   ]
  },
  {
   "cell_type": "code",
   "execution_count": 45,
   "metadata": {},
   "outputs": [
    {
     "ename": "AttributeError",
     "evalue": "module 'matplotlib' has no attribute 'scatter'",
     "output_type": "error",
     "traceback": [
      "\u001b[0;31m---------------------------------------------------------------------------\u001b[0m",
      "\u001b[0;31mAttributeError\u001b[0m                            Traceback (most recent call last)",
      "\u001b[0;32m<ipython-input-45-b6c38edb7598>\u001b[0m in \u001b[0;36m<module>\u001b[0;34m\u001b[0m\n\u001b[1;32m      9\u001b[0m \u001b[0;34m\u001b[0m\u001b[0m\n\u001b[1;32m     10\u001b[0m \u001b[0;31m#create plots\u001b[0m\u001b[0;34m\u001b[0m\u001b[0;34m\u001b[0m\u001b[0;34m\u001b[0m\u001b[0m\n\u001b[0;32m---> 11\u001b[0;31m \u001b[0mplt\u001b[0m\u001b[0;34m.\u001b[0m\u001b[0mscatter\u001b[0m\u001b[0;34m(\u001b[0m\u001b[0mdf_trans\u001b[0m\u001b[0;34m.\u001b[0m\u001b[0mloc\u001b[0m\u001b[0;34m[\u001b[0m\u001b[0my\u001b[0m\u001b[0;34m==\u001b[0m\u001b[0;36m0\u001b[0m\u001b[0;34m]\u001b[0m\u001b[0;34m[\u001b[0m\u001b[0;34m'xs'\u001b[0m\u001b[0;34m]\u001b[0m\u001b[0;34m,\u001b[0m \u001b[0mdf_trans\u001b[0m\u001b[0;34m.\u001b[0m\u001b[0mloc\u001b[0m\u001b[0;34m[\u001b[0m\u001b[0my\u001b[0m \u001b[0;34m==\u001b[0m\u001b[0;36m0\u001b[0m\u001b[0;34m]\u001b[0m\u001b[0;34m[\u001b[0m\u001b[0;34m'ys'\u001b[0m\u001b[0;34m]\u001b[0m\u001b[0;34m,\u001b[0m \u001b[0mc\u001b[0m\u001b[0;34m=\u001b[0m \u001b[0;34m'tab:green'\u001b[0m\u001b[0;34m)\u001b[0m\u001b[0;34m\u001b[0m\u001b[0;34m\u001b[0m\u001b[0m\n\u001b[0m\u001b[1;32m     12\u001b[0m \u001b[0mplt\u001b[0m\u001b[0;34m.\u001b[0m\u001b[0mscatter\u001b[0m\u001b[0;34m(\u001b[0m\u001b[0mdf_trans\u001b[0m\u001b[0;34m.\u001b[0m\u001b[0mloc\u001b[0m\u001b[0;34m[\u001b[0m\u001b[0my\u001b[0m \u001b[0;34m==\u001b[0m\u001b[0;36m1\u001b[0m\u001b[0;34m]\u001b[0m\u001b[0;34m[\u001b[0m\u001b[0;34m'xs'\u001b[0m\u001b[0;34m]\u001b[0m\u001b[0;34m,\u001b[0m \u001b[0mdf_trans\u001b[0m\u001b[0;34m.\u001b[0m\u001b[0mloc\u001b[0m\u001b[0;34m[\u001b[0m\u001b[0my\u001b[0m \u001b[0;34m==\u001b[0m\u001b[0;36m1\u001b[0m\u001b[0;34m]\u001b[0m\u001b[0;34m[\u001b[0m\u001b[0;34m'ys'\u001b[0m\u001b[0;34m]\u001b[0m\u001b[0;34m,\u001b[0m \u001b[0mc\u001b[0m\u001b[0;34m=\u001b[0m \u001b[0;34m'tab:blue'\u001b[0m\u001b[0;34m)\u001b[0m\u001b[0;34m\u001b[0m\u001b[0;34m\u001b[0m\u001b[0m\n\u001b[1;32m     13\u001b[0m \u001b[0mplt\u001b[0m\u001b[0;34m.\u001b[0m\u001b[0mlegend\u001b[0m\u001b[0;34m(\u001b[0m\u001b[0mloc\u001b[0m \u001b[0;34m=\u001b[0m\u001b[0;34m'lower left'\u001b[0m\u001b[0;34m,\u001b[0m \u001b[0mlabels\u001b[0m \u001b[0;34m=\u001b[0m \u001b[0;34m[\u001b[0m\u001b[0;34m'p'\u001b[0m\u001b[0;34m,\u001b[0m \u001b[0;34m'e'\u001b[0m\u001b[0;34m]\u001b[0m\u001b[0;34m)\u001b[0m\u001b[0;34m\u001b[0m\u001b[0;34m\u001b[0m\u001b[0m\n",
      "\u001b[0;31mAttributeError\u001b[0m: module 'matplotlib' has no attribute 'scatter'"
     ]
    }
   ],
   "source": [
    "#create model\n",
    "model = TSNE(learning_rate = 100)\n",
    "\n",
    "#fit model\n",
    "transformed = model.fit_transform(x.values)\n",
    "xs = transformed[:,0]\n",
    "ys = transformed[:,1]\n",
    "df_trans = pd.DataFrame({'xs':xs, 'ys':ys})\n",
    "\n",
    "#create plots\n",
    "plt.scatter(df_trans.loc[y==0]['xs'], df_trans.loc[y ==0]['ys'], c= 'tab:green')\n",
    "plt.scatter(df_trans.loc[y ==1]['xs'], df_trans.loc[y ==1]['ys'], c= 'tab:blue')\n",
    "plt.legend(loc ='lower left', labels = ['p', 'e'])\n",
    "\n",
    "plt.show()"
   ]
  },
  {
   "cell_type": "code",
   "execution_count": null,
   "metadata": {},
   "outputs": [],
   "source": [
    "#create parameter grid for values of k\n",
    "parameters = {'knn__n_neighbors': np.arange(1,10)}\n",
    "\n",
    "#instatiate pipeline with KNNClassifier: pl\n",
    "pl = Pipeline([('knn', KNeighborsClassifier())])\n",
    "\n",
    "#split data into test and training data\n",
    "X_train, X_test, y_train, y_test = train_test_split(x, y, test_size = 0.3, random_state = 42)\n",
    "\n",
    "#instatiate GridsearchCV:cv\n",
    "cv = GridSearchCV(pl, param_grid= parameters, cv = 3)\n",
    "\n",
    "#fit model to training data\n",
    "cv.fit(X_train, y_train)\n",
    "\n",
    "#predict test data: y_pred\n",
    "y_pred = cv.predict(X_test)"
   ]
  },
  {
   "cell_type": "code",
   "execution_count": null,
   "metadata": {},
   "outputs": [],
   "source": [
    "#print performance metrics\n",
    "print (cv.best_params_)\n",
    "print(classification_report(y_test, y_pred))"
   ]
  },
  {
   "cell_type": "code",
   "execution_count": null,
   "metadata": {},
   "outputs": [],
   "source": [
    "import graphviz\n",
    "from sklearn import tree\n",
    "from sklearn.tree import export_graphviz\n",
    "\n",
    "#export a graphic representation of tree to file\n",
    "\n",
    "dot_data =export_graphviz(tree, out_file = None, feature_names =x.columns, class_names = ['edible', 'poisonous'])\n",
    "graph = graphviz.Source(dot_data)\n",
    "graph"
   ]
  },
  {
   "cell_type": "code",
   "execution_count": null,
   "metadata": {},
   "outputs": [],
   "source": []
  },
  {
   "cell_type": "code",
   "execution_count": null,
   "metadata": {},
   "outputs": [],
   "source": []
  }
 ],
 "metadata": {
  "kernelspec": {
   "display_name": "Python 3",
   "language": "python",
   "name": "python3"
  },
  "language_info": {
   "codemirror_mode": {
    "name": "ipython",
    "version": 3
   },
   "file_extension": ".py",
   "mimetype": "text/x-python",
   "name": "python",
   "nbconvert_exporter": "python",
   "pygments_lexer": "ipython3",
   "version": "3.6.9"
  }
 },
 "nbformat": 4,
 "nbformat_minor": 4
}
